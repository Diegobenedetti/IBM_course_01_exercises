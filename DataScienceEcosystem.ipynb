{
 "cells": [
  {
   "cell_type": "markdown",
   "id": "3c69c536-b15e-4def-a6c1-6a937174e36a",
   "metadata": {
    "panel-layout": {
     "height": 51.13750076293945,
     "visible": true,
     "width": 100
    }
   },
   "source": [
    "# Data Science Tools and Ecosystem"
   ]
  },
  {
   "cell_type": "markdown",
   "id": "ef3080b7-408f-4313-b17b-581b6fe389a1",
   "metadata": {},
   "source": [
    "## Author:\n",
    "Diego Muniz Benedetti"
   ]
  },
  {
   "cell_type": "markdown",
   "id": "58129ad3-8f4f-4c66-b24f-b440e102e0ee",
   "metadata": {},
   "source": [
    "This notebook is an exercise for the Tools for Data Science Course - Module 6"
   ]
  },
  {
   "cell_type": "markdown",
   "id": "0771d3e2-f5e9-4a56-92e1-76b8ef77cef0",
   "metadata": {},
   "source": [
    "__Objectives:__\n",
    "* Popular languages for data science\n",
    "* Commonly used libraries\n",
    "* Basic arithmetic expressions"
   ]
  },
  {
   "cell_type": "markdown",
   "id": "b302c782-b699-4c0c-8611-f2ac5ec79cb1",
   "metadata": {},
   "source": [
    "Some of the popular languages that Data Scientists use are:\n",
    "1. Python\n",
    "2. Julia\n",
    "3. R\n",
    "4. SQL"
   ]
  },
  {
   "cell_type": "markdown",
   "id": "e6f077d3-ab3c-4146-a1b9-6ede4d638c88",
   "metadata": {},
   "source": [
    "Some of the commonly used libraries used by Data Scientists include:\n",
    "1. Pandas\n",
    "2. TensorFlow\n",
    "3. NumPy\n",
    "4. Matplotlib\n",
    "5. Scikit-Learn\n",
    "6. SciPy"
   ]
  },
  {
   "cell_type": "markdown",
   "id": "5238fd00-7e77-4a2e-be66-a1cf2e725a3b",
   "metadata": {},
   "source": [
    "|Data Science Tools|\n",
    "|:----------------:|\n",
    "|Spider|\n",
    "|RStudio|\n",
    "|Pycharm|"
   ]
  },
  {
   "cell_type": "markdown",
   "id": "e98ffdb2-7d01-4cdf-9c24-96633b98de46",
   "metadata": {
    "editable": true,
    "slideshow": {
     "slide_type": ""
    },
    "tags": []
   },
   "source": [
    "### Below are a few examples of evaluating arithmetic expressions in Python"
   ]
  },
  {
   "cell_type": "code",
   "execution_count": 1,
   "id": "2efbcabf-5c9e-4b14-8412-6be6e4f2db47",
   "metadata": {},
   "outputs": [
    {
     "data": {
      "text/plain": [
       "17"
      ]
     },
     "execution_count": 1,
     "metadata": {},
     "output_type": "execute_result"
    }
   ],
   "source": [
    "#This a simple arithmetic expression to mutiply then add integers\n",
    "(3*4)+5"
   ]
  },
  {
   "cell_type": "code",
   "execution_count": 3,
   "id": "1aabd92e-7b9d-4245-9f17-bcb5d24ec387",
   "metadata": {},
   "outputs": [
    {
     "data": {
      "text/plain": [
       "3.3333333333333335"
      ]
     },
     "execution_count": 3,
     "metadata": {},
     "output_type": "execute_result"
    }
   ],
   "source": [
    "#This will convert 200 minutes to hours by diving by 60\n",
    "200/60"
   ]
  },
  {
   "cell_type": "code",
   "execution_count": null,
   "id": "8577c635-34e6-4f3b-baba-0fa8b6a8b1b7",
   "metadata": {},
   "outputs": [],
   "source": []
  }
 ],
 "metadata": {
  "kernelspec": {
   "display_name": "anaconda-2024.02-py310",
   "language": "python",
   "name": "conda-env-anaconda-2024.02-py310-py"
  },
  "language_info": {
   "codemirror_mode": {
    "name": "ipython",
    "version": 3
   },
   "file_extension": ".py",
   "mimetype": "text/x-python",
   "name": "python",
   "nbconvert_exporter": "python",
   "pygments_lexer": "ipython3",
   "version": "3.10.14"
  },
  "panel-cell-order": [
   "3c69c536-b15e-4def-a6c1-6a937174e36a"
  ]
 },
 "nbformat": 4,
 "nbformat_minor": 5
}
